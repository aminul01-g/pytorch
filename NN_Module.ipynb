{
  "nbformat": 4,
  "nbformat_minor": 0,
  "metadata": {
    "colab": {
      "provenance": [],
      "authorship_tag": "ABX9TyOsuVWU3z/5x3UHYectAxMb",
      "include_colab_link": true
    },
    "kernelspec": {
      "name": "python3",
      "display_name": "Python 3"
    },
    "language_info": {
      "name": "python"
    }
  },
  "cells": [
    {
      "cell_type": "markdown",
      "metadata": {
        "id": "view-in-github",
        "colab_type": "text"
      },
      "source": [
        "<a href=\"https://colab.research.google.com/github/aminul01-g/pytorch/blob/main/NN_Module.ipynb\" target=\"_parent\"><img src=\"https://colab.research.google.com/assets/colab-badge.svg\" alt=\"Open In Colab\"/></a>"
      ]
    },
    {
      "cell_type": "code",
      "execution_count": 5,
      "metadata": {
        "id": "BhIoGjg1kn9q"
      },
      "outputs": [],
      "source": [
        "import torch\n",
        "import torch.nn as nn"
      ]
    },
    {
      "cell_type": "markdown",
      "source": [
        " # Single layer NN Model"
      ],
      "metadata": {
        "id": "6EQUqIi2fYK5"
      }
    },
    {
      "cell_type": "code",
      "source": [
        "# Create Model Class\n",
        "\n",
        "class Model(nn.Module):\n",
        "    def __init__(self, num_fetures):\n",
        "        super().__init__()\n",
        "        self.linear = nn.Linear(num_fetures, 1)\n",
        "        self.sigmoid = nn.Sigmoid()\n",
        "\n",
        "    def forward (self, fetures):\n",
        "      out = self.linear(fetures) # z = wx+b\n",
        "      out = self.sigmoid(out)\n",
        "      return out # return output"
      ],
      "metadata": {
        "id": "qIZIDCNCmFFL"
      },
      "execution_count": 8,
      "outputs": []
    },
    {
      "cell_type": "code",
      "source": [
        "# Create dataset\n",
        "\n",
        "features = torch.rand(10, 5) # 5 Inputs which have 10 rows\n",
        "\n",
        "# Create Model\n",
        "\n",
        "model = Model(features.shape[1])\n",
        "\n",
        "# Call model for forward pass\n",
        "\n",
        "   # mdoel.forward(features)\n",
        "\n",
        "model(features)"
      ],
      "metadata": {
        "colab": {
          "base_uri": "https://localhost:8080/"
        },
        "id": "wb7XEd_rb-X1",
        "outputId": "e668637f-1573-4ee4-d8cf-1f33be0cccb6"
      },
      "execution_count": 9,
      "outputs": [
        {
          "output_type": "execute_result",
          "data": {
            "text/plain": [
              "tensor([[0.5240],\n",
              "        [0.6001],\n",
              "        [0.5888],\n",
              "        [0.5566],\n",
              "        [0.5778],\n",
              "        [0.6026],\n",
              "        [0.5953],\n",
              "        [0.6280],\n",
              "        [0.6118],\n",
              "        [0.6122]], grad_fn=<SigmoidBackward0>)"
            ]
          },
          "metadata": {},
          "execution_count": 9
        }
      ]
    },
    {
      "cell_type": "code",
      "source": [
        "model.linear.weight"
      ],
      "metadata": {
        "colab": {
          "base_uri": "https://localhost:8080/"
        },
        "id": "aaukqA5xecgq",
        "outputId": "9113dea1-88cf-49fc-c74a-dafe6a28c38c"
      },
      "execution_count": 10,
      "outputs": [
        {
          "output_type": "execute_result",
          "data": {
            "text/plain": [
              "Parameter containing:\n",
              "tensor([[ 0.0940, -0.0826,  0.2274,  0.1962, -0.3113]], requires_grad=True)"
            ]
          },
          "metadata": {},
          "execution_count": 10
        }
      ]
    },
    {
      "cell_type": "code",
      "source": [
        "model.linear.bias"
      ],
      "metadata": {
        "colab": {
          "base_uri": "https://localhost:8080/"
        },
        "id": "DtMFQ0EBeqCr",
        "outputId": "de722cf1-992e-4436-ecb5-480b35822c4f"
      },
      "execution_count": 11,
      "outputs": [
        {
          "output_type": "execute_result",
          "data": {
            "text/plain": [
              "Parameter containing:\n",
              "tensor([0.3538], requires_grad=True)"
            ]
          },
          "metadata": {},
          "execution_count": 11
        }
      ]
    },
    {
      "cell_type": "code",
      "source": [
        "!pip install torchinfo"
      ],
      "metadata": {
        "colab": {
          "base_uri": "https://localhost:8080/"
        },
        "id": "u3RVHffbevaE",
        "outputId": "016e54a0-19a3-4688-b47f-900e81f524dd"
      },
      "execution_count": 12,
      "outputs": [
        {
          "output_type": "stream",
          "name": "stdout",
          "text": [
            "Collecting torchinfo\n",
            "  Downloading torchinfo-1.8.0-py3-none-any.whl.metadata (21 kB)\n",
            "Downloading torchinfo-1.8.0-py3-none-any.whl (23 kB)\n",
            "Installing collected packages: torchinfo\n",
            "Successfully installed torchinfo-1.8.0\n"
          ]
        }
      ]
    },
    {
      "cell_type": "code",
      "source": [
        "from torchinfo import summary\n",
        "\n",
        "summary(model,input_size=(10,5))"
      ],
      "metadata": {
        "colab": {
          "base_uri": "https://localhost:8080/"
        },
        "id": "6mXvfYXFe03l",
        "outputId": "f8da6ad4-0b46-4864-e6ab-321a3f7dbbd1"
      },
      "execution_count": 14,
      "outputs": [
        {
          "output_type": "execute_result",
          "data": {
            "text/plain": [
              "==========================================================================================\n",
              "Layer (type:depth-idx)                   Output Shape              Param #\n",
              "==========================================================================================\n",
              "Model                                    [10, 1]                   --\n",
              "├─Linear: 1-1                            [10, 1]                   6\n",
              "├─Sigmoid: 1-2                           [10, 1]                   --\n",
              "==========================================================================================\n",
              "Total params: 6\n",
              "Trainable params: 6\n",
              "Non-trainable params: 0\n",
              "Total mult-adds (Units.MEGABYTES): 0.00\n",
              "==========================================================================================\n",
              "Input size (MB): 0.00\n",
              "Forward/backward pass size (MB): 0.00\n",
              "Params size (MB): 0.00\n",
              "Estimated Total Size (MB): 0.00\n",
              "=========================================================================================="
            ]
          },
          "metadata": {},
          "execution_count": 14
        }
      ]
    },
    {
      "cell_type": "markdown",
      "source": [
        "# Create a NN with hidden layer"
      ],
      "metadata": {
        "id": "Ta5VgFDqb9qa"
      }
    },
    {
      "cell_type": "code",
      "source": [
        "# Create Model Class\n",
        "\n",
        "\"\"\"class Model(nn.Module):\n",
        "    def __init__(self, num_fetures):\n",
        "        super().__init__()\n",
        "        self.linear1 = nn.Linear(num_fetures, 3)\n",
        "        self.relu = nn.ReLU()\n",
        "\n",
        "        self.linear2 = nn.Linear(3, 1)\n",
        "        self.sigmoid = nn.Sigmoid()\n",
        "\n",
        "    def forward (self, fetures):\n",
        "      out = self.linear1(fetures) # z = wx+b\n",
        "      out = self.relu(out)\n",
        "\n",
        "      out = self.linear2(out)\n",
        "      out = self.sigmoid(out)\n",
        "      return out\"\"\"\n",
        "\n",
        "  # Sequential Container\n",
        "\n",
        "class Model(nn.Module):\n",
        "\n",
        "  def __init__(self, num_features):\n",
        "\n",
        "    super().__init__()\n",
        "\n",
        "    self.layers = nn.Sequential(\n",
        "          nn.Linear(num_features, 3),\n",
        "          nn.ReLU(),\n",
        "          nn.Linear(3, 1),\n",
        "          nn.Sigmoid()\n",
        "    )\n",
        "\n",
        "\n",
        "  def forward(self, features):\n",
        "      return self.layers(features)"
      ],
      "metadata": {
        "id": "8oiBYyd3fP-R"
      },
      "execution_count": 31,
      "outputs": []
    },
    {
      "cell_type": "code",
      "source": [
        "# Create dataset\n",
        "\n",
        "features = torch.rand(10, 5) # 5 Inputs which have 10 rows\n",
        "\n",
        "# Create Model\n",
        "\n",
        "model = Model(features.shape[1])\n",
        "\n",
        "# Call model for forward pass\n",
        "\n",
        "   # mdoel.forward(features)\n",
        "\n",
        "model(features)"
      ],
      "metadata": {
        "colab": {
          "base_uri": "https://localhost:8080/"
        },
        "id": "OehkwOI7giJF",
        "outputId": "512a2a59-5091-46f1-f3ba-0e237d04eb45"
      },
      "execution_count": 32,
      "outputs": [
        {
          "output_type": "execute_result",
          "data": {
            "text/plain": [
              "tensor([[0.3719],\n",
              "        [0.3666],\n",
              "        [0.3744],\n",
              "        [0.3553],\n",
              "        [0.3523],\n",
              "        [0.3703],\n",
              "        [0.3780],\n",
              "        [0.3443],\n",
              "        [0.3805],\n",
              "        [0.3779]], grad_fn=<SigmoidBackward0>)"
            ]
          },
          "metadata": {},
          "execution_count": 32
        }
      ]
    },
    {
      "cell_type": "code",
      "source": [
        "summary(model,input_size=(10,5))"
      ],
      "metadata": {
        "colab": {
          "base_uri": "https://localhost:8080/"
        },
        "id": "8H6iFoV2gv0A",
        "outputId": "46ffeca9-56c7-43b6-9682-9472c0cf1dff"
      },
      "execution_count": 35,
      "outputs": [
        {
          "output_type": "execute_result",
          "data": {
            "text/plain": [
              "==========================================================================================\n",
              "Layer (type:depth-idx)                   Output Shape              Param #\n",
              "==========================================================================================\n",
              "Model                                    [10, 1]                   --\n",
              "├─Sequential: 1-1                        [10, 1]                   --\n",
              "│    └─Linear: 2-1                       [10, 3]                   18\n",
              "│    └─ReLU: 2-2                         [10, 3]                   --\n",
              "│    └─Linear: 2-3                       [10, 1]                   4\n",
              "│    └─Sigmoid: 2-4                      [10, 1]                   --\n",
              "==========================================================================================\n",
              "Total params: 22\n",
              "Trainable params: 22\n",
              "Non-trainable params: 0\n",
              "Total mult-adds (Units.MEGABYTES): 0.00\n",
              "==========================================================================================\n",
              "Input size (MB): 0.00\n",
              "Forward/backward pass size (MB): 0.00\n",
              "Params size (MB): 0.00\n",
              "Estimated Total Size (MB): 0.00\n",
              "=========================================================================================="
            ]
          },
          "metadata": {},
          "execution_count": 35
        }
      ]
    },
    {
      "cell_type": "code",
      "source": [],
      "metadata": {
        "id": "QAKVubmGhDtV"
      },
      "execution_count": null,
      "outputs": []
    }
  ]
}